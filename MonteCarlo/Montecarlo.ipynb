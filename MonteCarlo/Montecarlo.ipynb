{
 "cells": [
  {
   "cell_type": "code",
   "execution_count": 1,
   "metadata": {},
   "outputs": [],
   "source": [
    "import random\n",
    "import numpy as np"
   ]
  },
  {
   "cell_type": "code",
   "execution_count": 2,
   "metadata": {},
   "outputs": [
    {
     "name": "stdout",
     "output_type": "stream",
     "text": [
      "35\n",
      "[1, 2, 3, 4, 5, 6, 7, 8, 9, 10, 11, 12, 13, 14, 15, 16, 17, 18, 19, 20, 21, 22, 23, 24, 25, 26, 27, 28, 29, 30, 31, 32, 33, 34, 35, 36]\n",
      "32\n",
      "Fair Roulette\n"
     ]
    }
   ],
   "source": [
    "class FairRoulette():\n",
    "    def __init__(self) -> None:\n",
    "        self.pockets = []\n",
    "        for i in range(1,37):\n",
    "            self.pockets.append(i)\n",
    "        self.ball = None\n",
    "        # Probability of not getting it is 35/36\n",
    "        self.pocketOdds = len(self.pockets) - 1\n",
    "\n",
    "    def spin(self):\n",
    "        self.ball = random.choice(self.pockets)\n",
    "\n",
    "    def betPocket(self, pocket,amt):\n",
    "        if str(pocket) == str(self.ball):\n",
    "            return amt * self.pocketOdds\n",
    "        else:\n",
    "            return -amt\n",
    "         \n",
    "    def __str__(self):\n",
    "        return 'Fair Roulette'\n",
    "\n",
    "\n",
    "rule = FairRoulette()\n",
    "print(rule.pocketOdds)\n",
    "print(rule.pockets)\n",
    "rule.spin()\n",
    "print(rule.ball)\n",
    "print(rule)"
   ]
  },
  {
   "cell_type": "code",
   "execution_count": 3,
   "metadata": {},
   "outputs": [
    {
     "data": {
      "text/plain": [
       "-2"
      ]
     },
     "execution_count": 3,
     "metadata": {},
     "output_type": "execute_result"
    }
   ],
   "source": [
    "rule = FairRoulette()\n",
    "rule.spin()\n",
    "rule.betPocket(2,2)"
   ]
  },
  {
   "cell_type": "code",
   "execution_count": 5,
   "metadata": {},
   "outputs": [
    {
     "name": "stdout",
     "output_type": "stream",
     "text": [
      "5 spins of Fair Roulette\n",
      "Return betting on 2 = -100.0 %\n",
      "Money Earned: -5 euros\n"
     ]
    }
   ],
   "source": [
    "Number_times_I_want_play = 5\n",
    "good_money = 0\n",
    "money_that_my_granda_gave_me = 1\n",
    "pocket_that_will_get_money = 2\n",
    "\n",
    "for i in range(Number_times_I_want_play):\n",
    "    rule.spin()\n",
    "    good_money += rule.betPocket(pocket_that_will_get_money,money_that_my_granda_gave_me) \n",
    "\n",
    "print(f'{Number_times_I_want_play} spins of {rule}')\n",
    "print(f'Return betting on {pocket_that_will_get_money} = {str(100 * good_money/Number_times_I_want_play)} %')\n",
    "print(f'Money Earned: {good_money} euros')\n"
   ]
  },
  {
   "cell_type": "code",
   "execution_count": 17,
   "metadata": {},
   "outputs": [
    {
     "name": "stdout",
     "output_type": "stream",
     "text": [
      "1000000 spins of Fair Roulette\n",
      "Return betting on 2 = 0.3644 %\n",
      "Money Earned: 3644 euros\n",
      "I started out with 1000000 and I finished with 1003644\n"
     ]
    }
   ],
   "source": [
    "Number_times_I_want_play = 1000000\n",
    "good_money = 0\n",
    "money_that_my_granda_gave_me = 1\n",
    "pocket_that_will_get_money = 2\n",
    "\n",
    "for i in range(Number_times_I_want_play):\n",
    "    rule.spin()\n",
    "    good_money += rule.betPocket(pocket_that_will_get_money,money_that_my_granda_gave_me) \n",
    "print(f'{Number_times_I_want_play} spins of {rule}')\n",
    "print(f'Return betting on {pocket_that_will_get_money} = {str(100 * good_money/Number_times_I_want_play)} %')\n",
    "print(f'Money Earned: {good_money} euros')\n",
    "print(f'I started out with {Number_times_I_want_play} and I finished with {Number_times_I_want_play + good_money}')"
   ]
  },
  {
   "cell_type": "markdown",
   "metadata": {},
   "source": [
    "# The European Roulette"
   ]
  },
  {
   "cell_type": "code",
   "execution_count": 18,
   "metadata": {},
   "outputs": [],
   "source": [
    "class EURoulette(FairRoulette):\n",
    "    def __init__(self) :\n",
    "        super().__init__()\n",
    "        self.pockets.append(0)\n",
    "        # self.pockets.append('00')\n",
    "    def __str__(self):\n",
    "        return 'European Roulette'"
   ]
  },
  {
   "cell_type": "code",
   "execution_count": 19,
   "metadata": {},
   "outputs": [
    {
     "name": "stdout",
     "output_type": "stream",
     "text": [
      "5 spins of European Roulette\n",
      "Return betting on 2 = -100.0 %\n",
      "Money Earned: -5 euros\n"
     ]
    }
   ],
   "source": [
    "rule = EURoulette()\n",
    "Number_times_I_want_play = 5\n",
    "good_money = 0\n",
    "money_that_my_granda_gave_me = 1\n",
    "pocket_that_will_get_money = 2\n",
    "\n",
    "for i in range(Number_times_I_want_play):\n",
    "    rule.spin()\n",
    "    good_money += rule.betPocket(pocket_that_will_get_money,money_that_my_granda_gave_me) \n",
    "\n",
    "print(f'{Number_times_I_want_play} spins of {rule}')\n",
    "print(f'Return betting on {pocket_that_will_get_money} = {str(100 * good_money/Number_times_I_want_play)} %')\n",
    "print(f'Money Earned: {good_money} euros')\n"
   ]
  },
  {
   "cell_type": "code",
   "execution_count": 20,
   "metadata": {},
   "outputs": [
    {
     "name": "stdout",
     "output_type": "stream",
     "text": [
      "1000000 spins of European Roulette\n",
      "Return betting on 2 = -3.5488 %\n",
      "Money Earned: -35488 euros\n",
      "I started out with 1000000 and I finished with 964512\n"
     ]
    }
   ],
   "source": [
    "Number_times_I_want_play = 1000000\n",
    "good_money = 0\n",
    "money_that_my_granda_gave_me = 1\n",
    "pocket_that_will_get_money = 2\n",
    "\n",
    "for i in range(Number_times_I_want_play):\n",
    "    rule.spin()\n",
    "    good_money += rule.betPocket(pocket_that_will_get_money,money_that_my_granda_gave_me) \n",
    "print(f'{Number_times_I_want_play} spins of {rule}')\n",
    "print(f'Return betting on {pocket_that_will_get_money} = {str(100 * good_money/Number_times_I_want_play)} %')\n",
    "print(f'Money Earned: {good_money} euros')\n",
    "print(f'I started out with {Number_times_I_want_play} and I finished with {Number_times_I_want_play + good_money}')"
   ]
  },
  {
   "cell_type": "markdown",
   "metadata": {},
   "source": [
    "# Confidence Interval"
   ]
  },
  {
   "cell_type": "code",
   "execution_count": 21,
   "metadata": {},
   "outputs": [],
   "source": [
    "Number_times_I_want_play = 1000000\n",
    "good_money = 0\n",
    "money_that_my_granda_gave_me = 1\n",
    "pocket_that_will_get_money = 2\n",
    "expected_returns = []\n",
    "n_samples = 20\n",
    "\n",
    "rule = FairRoulette()\n",
    "for n in range(n_samples):\n",
    "    good_money = 0\n",
    "    for i in range(Number_times_I_want_play):\n",
    "        rule.spin()\n",
    "        good_money += rule.betPocket(pocket_that_will_get_money,money_that_my_granda_gave_me) \n",
    "    return_percentage = 100 * good_money/Number_times_I_want_play\n",
    "    expected_returns.append(return_percentage)"
   ]
  },
  {
   "cell_type": "code",
   "execution_count": 22,
   "metadata": {},
   "outputs": [
    {
     "name": "stdout",
     "output_type": "stream",
     "text": [
      "The return on betting a pocket 1M times in Fair Roulette\n",
      "      is -0.08 %. The margin of error is +/- 1.11 %\n",
      "    within a 95% CI\n"
     ]
    }
   ],
   "source": [
    "expected_return = np.mean(expected_returns)\n",
    "standard_deviation = np.std(expected_returns)\n",
    "standard_deviation\n",
    "print(f\"\"\"The return on betting a pocket 1M times in Fair Roulette\n",
    "      is {expected_return:.2f} %. The margin of error is +/- {2* standard_deviation:.2f} %\n",
    "    within a 95% CI\"\"\")"
   ]
  },
  {
   "cell_type": "code",
   "execution_count": 27,
   "metadata": {},
   "outputs": [],
   "source": [
    "Number_times_I_want_play = 1000000\n",
    "good_money = 0\n",
    "money_that_my_granda_gave_me = 1\n",
    "pocket_that_will_get_money = 2\n",
    "expected_returns = []\n",
    "n_samples = 20\n",
    "\n",
    "rule = EURoulette()\n",
    "for n in range(n_samples):\n",
    "    good_money = 0\n",
    "    for i in range(Number_times_I_want_play):\n",
    "        rule.spin()\n",
    "        good_money += rule.betPocket(pocket_that_will_get_money,money_that_my_granda_gave_me) \n",
    "    return_percentage = 100 * good_money/Number_times_I_want_play\n",
    "    expected_returns.append(return_percentage)"
   ]
  },
  {
   "cell_type": "code",
   "execution_count": 29,
   "metadata": {},
   "outputs": [
    {
     "name": "stdout",
     "output_type": "stream",
     "text": [
      "The return on betting a pocket 1M times in EU Roulette\n",
      "is -2.73 %. The margin of error is +/- 1.11 %\n",
      "within a 95% CI\n"
     ]
    }
   ],
   "source": [
    "expected_return = np.mean(expected_returns)\n",
    "standard_deviation = np.std(expected_returns)\n",
    "standard_deviation\n",
    "print(f\"\"\"The return on betting a pocket 1M times in EU Roulette\n",
    "is {expected_return:.2f} %. The margin of error is +/- {2* standard_deviation:.2f} %\n",
    "within a 95% CI\"\"\")"
   ]
  },
  {
   "cell_type": "markdown",
   "metadata": {},
   "source": [
    "# CI Shrinks as you make Number_times_I_want_play bigger (AKA Repeat Experiment More Times)"
   ]
  },
  {
   "cell_type": "code",
   "execution_count": 30,
   "metadata": {},
   "outputs": [
    {
     "name": "stdout",
     "output_type": "stream",
     "text": [
      "10\n",
      "The return on betting a pocket 1M times in EU Roulette\n",
      "    is 44.00 %. The margin of error is +/- 352.73 %\n",
      "    within a 95% CI\n",
      "1000\n",
      "The return on betting a pocket 1M times in EU Roulette\n",
      "    is -0.64 %. The margin of error is +/- 41.45 %\n",
      "    within a 95% CI\n",
      "1000000\n",
      "The return on betting a pocket 1M times in EU Roulette\n",
      "    is -2.72 %. The margin of error is +/- 1.12 %\n",
      "    within a 95% CI\n"
     ]
    }
   ],
   "source": [
    "for Number_times_I_want_play in [10, 1000, 1000000]:\n",
    "    good_money = 0\n",
    "    money_that_my_granda_gave_me = 1\n",
    "    pocket_that_will_get_money = 2\n",
    "    expected_returns = []\n",
    "    n_samples = 20\n",
    "\n",
    "    rule = EURoulette()\n",
    "    for n in range(n_samples):\n",
    "        good_money = 0\n",
    "        for i in range(Number_times_I_want_play):\n",
    "            rule.spin()\n",
    "            good_money += rule.betPocket(pocket_that_will_get_money,money_that_my_granda_gave_me) \n",
    "        return_percentage = 100 * good_money/Number_times_I_want_play\n",
    "        expected_returns.append(return_percentage)\n",
    "\n",
    "    expected_return = np.mean(expected_returns)\n",
    "    standard_deviation = np.std(expected_returns)\n",
    "    standard_deviation\n",
    "    print(Number_times_I_want_play)\n",
    "    print(f\"\"\"The return on betting a pocket 1M times in EU Roulette\n",
    "    is {expected_return:.2f} %. The margin of error is +/- {2* standard_deviation:.2f} %\n",
    "    within a 95% CI\"\"\")"
   ]
  },
  {
   "cell_type": "markdown",
   "metadata": {},
   "source": [
    "# We are getting Closer to the True Mean!"
   ]
  }
 ],
 "metadata": {
  "kernelspec": {
   "display_name": "Python 3",
   "language": "python",
   "name": "python3"
  },
  "language_info": {
   "codemirror_mode": {
    "name": "ipython",
    "version": 3
   },
   "file_extension": ".py",
   "mimetype": "text/x-python",
   "name": "python",
   "nbconvert_exporter": "python",
   "pygments_lexer": "ipython3",
   "version": "3.10.11"
  }
 },
 "nbformat": 4,
 "nbformat_minor": 2
}
