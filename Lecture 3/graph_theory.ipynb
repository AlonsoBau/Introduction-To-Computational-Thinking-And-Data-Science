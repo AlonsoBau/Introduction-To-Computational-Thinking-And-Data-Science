{
 "cells": [
  {
   "cell_type": "code",
   "execution_count": 66,
   "metadata": {},
   "outputs": [],
   "source": [
    "class Node():\n",
    "    def __init__(self, name):\n",
    "        self.name = name\n",
    "    def getName(self):\n",
    "        return self.name\n",
    "    def __str__(self):\n",
    "        return self.name\n",
    "\n",
    "class Edge():\n",
    "    def __init__(self, src, dest):\n",
    "        self.src = src\n",
    "        self.dest = dest\n",
    "    def getSource(self):\n",
    "        return self.src\n",
    "    def getDestination(self):\n",
    "        return self.dest\n",
    "    def __str__(self) -> str:\n",
    "        return self.src.getName() + '->' + self.dest.getName()"
   ]
  },
  {
   "cell_type": "code",
   "execution_count": 67,
   "metadata": {},
   "outputs": [],
   "source": [
    "class Digraph():\n",
    "    def __init__(self):\n",
    "        self.edges = {}\n",
    "    \n",
    "    def addNode(self, node):\n",
    "        if node in self.edges:\n",
    "            raise ValueError('Duplicate Node')\n",
    "        else:\n",
    "            self.edges[node] = []\n",
    "\n",
    "    def addEdge(self, edge):\n",
    "        src = edge.getSource()\n",
    "        dest = edge.getDestination()\n",
    "        if not (src in self.edges and dest in self.edges): # If src or dest not in edges\n",
    "            raise ValueError('Node not in Graph')\n",
    "        self.edges[src].append(dest)\n",
    "\n",
    "    def childrenOf(self, node):\n",
    "        return self.edges[node]\n",
    "    \n",
    "    def hasNode(self, node):\n",
    "        return node in self.edges\n",
    "    \n",
    "    def getNode(self, name):\n",
    "        for n in self.edges:\n",
    "            if n.getName() == name:\n",
    "                return n\n",
    "        raise NameError(name)\n",
    "\n",
    "    def __str__(self):\n",
    "        result = ''\n",
    "        for src in self.edges:\n",
    "            for dest in self.edges[src]:\n",
    "                result = result + src.getName() + \\\n",
    "                '->' + dest.getName()  + '\\n'\n",
    "        return result[:-1]\n",
    "\n"
   ]
  },
  {
   "cell_type": "code",
   "execution_count": 68,
   "metadata": {},
   "outputs": [],
   "source": [
    "node_1 = Node('1')\n",
    "node_2 = Node('2')\n",
    "edge_1 = Edge(node_1, node_2)\n",
    "graph_1 = Digraph()\n",
    "graph_1.addNode(node_1)\n",
    "graph_1.addNode(node_2)\n",
    "graph_1.addEdge(edge_1)"
   ]
  },
  {
   "cell_type": "code",
   "execution_count": 69,
   "metadata": {},
   "outputs": [
    {
     "name": "stdout",
     "output_type": "stream",
     "text": [
      "2\n"
     ]
    }
   ],
   "source": [
    "print(graph_1.childrenOf(node_1)[0])"
   ]
  },
  {
   "cell_type": "code",
   "execution_count": 70,
   "metadata": {},
   "outputs": [
    {
     "data": {
      "text/plain": [
       "True"
      ]
     },
     "execution_count": 70,
     "metadata": {},
     "output_type": "execute_result"
    }
   ],
   "source": [
    "graph_1.hasNode(node_2)"
   ]
  },
  {
   "cell_type": "code",
   "execution_count": 71,
   "metadata": {},
   "outputs": [
    {
     "data": {
      "text/plain": [
       "<__main__.Node at 0x22e803028c0>"
      ]
     },
     "execution_count": 71,
     "metadata": {},
     "output_type": "execute_result"
    }
   ],
   "source": [
    "graph_1.getNode('1')"
   ]
  },
  {
   "cell_type": "code",
   "execution_count": 72,
   "metadata": {},
   "outputs": [
    {
     "data": {
      "text/plain": [
       "{<__main__.Node at 0x22e803028c0>: [<__main__.Node at 0x22e80303a60>],\n",
       " <__main__.Node at 0x22e80303a60>: []}"
      ]
     },
     "execution_count": 72,
     "metadata": {},
     "output_type": "execute_result"
    }
   ],
   "source": [
    "graph_1.edges"
   ]
  },
  {
   "cell_type": "code",
   "execution_count": 73,
   "metadata": {},
   "outputs": [
    {
     "data": {
      "text/plain": [
       "[<__main__.Node at 0x22e80303a60>]"
      ]
     },
     "execution_count": 73,
     "metadata": {},
     "output_type": "execute_result"
    }
   ],
   "source": [
    "graph_1.edges[node_1]"
   ]
  },
  {
   "cell_type": "code",
   "execution_count": 74,
   "metadata": {},
   "outputs": [
    {
     "name": "stdout",
     "output_type": "stream",
     "text": [
      "1->2\n"
     ]
    }
   ],
   "source": [
    "print(graph_1)"
   ]
  },
  {
   "cell_type": "code",
   "execution_count": 75,
   "metadata": {},
   "outputs": [],
   "source": [
    "edge_2 = Edge(node_2, node_1)\n",
    "graph_1.addEdge(edge_2)"
   ]
  },
  {
   "cell_type": "code",
   "execution_count": 76,
   "metadata": {},
   "outputs": [
    {
     "name": "stdout",
     "output_type": "stream",
     "text": [
      "1->2\n",
      "2->1\n"
     ]
    }
   ],
   "source": [
    "print(graph_1)"
   ]
  },
  {
   "cell_type": "code",
   "execution_count": 77,
   "metadata": {},
   "outputs": [],
   "source": [
    "class Graph(Digraph):\n",
    "    def __init__(self):\n",
    "        super().__init__()\n",
    "        \n",
    "    def addEdge(self, edge):\n",
    "        super().addEdge(edge) # add Edge 1,2 to Digraph\n",
    "        rev = Edge(edge.getDestination(), edge.getSource()) # Create edge 2,1\n",
    "        super().addEdge(rev) # add Edge 2,1 to Digraph"
   ]
  },
  {
   "cell_type": "code",
   "execution_count": 78,
   "metadata": {},
   "outputs": [
    {
     "name": "stdout",
     "output_type": "stream",
     "text": [
      "1->2\n"
     ]
    }
   ],
   "source": [
    "print(edge_1)"
   ]
  },
  {
   "cell_type": "code",
   "execution_count": 79,
   "metadata": {},
   "outputs": [
    {
     "name": "stdout",
     "output_type": "stream",
     "text": [
      "1->2\n",
      "2->1\n"
     ]
    }
   ],
   "source": [
    "node_1 = Node('1')\n",
    "node_2 = Node('2')\n",
    "edge_1 = Edge(node_1, node_2)\n",
    "graph_1 = Graph()\n",
    "graph_1.addNode(node_1)\n",
    "graph_1.addNode(node_2)\n",
    "graph_1.addEdge(edge_1)\n",
    "print(graph_1)"
   ]
  },
  {
   "cell_type": "code",
   "execution_count": 80,
   "metadata": {},
   "outputs": [],
   "source": [
    "def try_stay(path, start, end):\n",
    "    if start >= end:\n",
    "        return path\n",
    "    path = path + [start]\n",
    "    for i in range(start+1, end):\n",
    "        path = try_stay(path, i, end)\n",
    "    return path"
   ]
  },
  {
   "cell_type": "code",
   "execution_count": 81,
   "metadata": {},
   "outputs": [
    {
     "data": {
      "text/plain": [
       "[1, 2, 3]"
      ]
     },
     "execution_count": 81,
     "metadata": {},
     "output_type": "execute_result"
    }
   ],
   "source": [
    "try_stay([1], 2, 4)"
   ]
  },
  {
   "cell_type": "code",
   "execution_count": 82,
   "metadata": {},
   "outputs": [
    {
     "data": {
      "text/plain": [
       "[1, 2, 3, 3]"
      ]
     },
     "execution_count": 82,
     "metadata": {},
     "output_type": "execute_result"
    }
   ],
   "source": [
    "try_stay([1, 2, 3], 3, 4)"
   ]
  },
  {
   "cell_type": "code",
   "execution_count": 83,
   "metadata": {},
   "outputs": [
    {
     "data": {
      "text/plain": [
       "[1, 2, 3, 3]"
      ]
     },
     "execution_count": 83,
     "metadata": {},
     "output_type": "execute_result"
    }
   ],
   "source": [
    "try_stay([], 1, 4)"
   ]
  },
  {
   "cell_type": "markdown",
   "metadata": {},
   "source": [
    "## Shortest Path"
   ]
  },
  {
   "cell_type": "code",
   "execution_count": 84,
   "metadata": {},
   "outputs": [],
   "source": [
    "def buildCityGraph(graphtype):\n",
    "    g = graphtype\n",
    "    for name in ('Boston', 'Providence', 'New York', 'Chicago',\n",
    "                 'Denver', 'Phoenix', 'Los Angeles'):\n",
    "        g.addNode(Node(name))\n",
    "    \n",
    "    g.addEdge(Edge(g.getNode('Boston'), g.getNode('Providence')))\n",
    "    g.addEdge(Edge(g.getNode('Boston'), g.getNode('New York')))\n",
    "    g.addEdge(Edge(g.getNode('Providence'), g.getNode('Boston')))\n",
    "    g.addEdge(Edge(g.getNode('Providence'), g.getNode('New York')))\n",
    "    g.addEdge(Edge(g.getNode('New York'), g.getNode('Chicago')))\n",
    "    g.addEdge(Edge(g.getNode('Chicago'), g.getNode('Denver')))\n",
    "    g.addEdge(Edge(g.getNode('Chicago'), g.getNode('Phoenix')))\n",
    "    g.addEdge(Edge(g.getNode('Denver'), g.getNode('Phoenix')))\n",
    "    g.addEdge(Edge(g.getNode('Denver'), g.getNode('New York')))\n",
    "    g.addEdge(Edge(g.getNode('Los Angeles'), g.getNode('Boston')))\n",
    "    return g"
   ]
  },
  {
   "cell_type": "code",
   "execution_count": 85,
   "metadata": {},
   "outputs": [
    {
     "name": "stdout",
     "output_type": "stream",
     "text": [
      "Boston->Providence\n",
      "Boston->New York\n",
      "Providence->Boston\n",
      "Providence->New York\n",
      "New York->Chicago\n",
      "Chicago->Denver\n",
      "Chicago->Phoenix\n",
      "Denver->Phoenix\n",
      "Denver->New York\n",
      "Los Angeles->Boston\n"
     ]
    }
   ],
   "source": [
    "dir_graph_city = Digraph()\n",
    "buildCityGraph(dir_graph_city)\n",
    "print(dir_graph_city)"
   ]
  },
  {
   "cell_type": "code",
   "execution_count": 86,
   "metadata": {},
   "outputs": [
    {
     "data": {
      "text/plain": [
       "<__main__.Node at 0x22e802df730>"
      ]
     },
     "execution_count": 86,
     "metadata": {},
     "output_type": "execute_result"
    }
   ],
   "source": [
    "dir_graph_city.getNode('Boston')"
   ]
  },
  {
   "cell_type": "code",
   "execution_count": 87,
   "metadata": {},
   "outputs": [
    {
     "name": "stdout",
     "output_type": "stream",
     "text": [
      "Providence\n",
      "New York\n"
     ]
    }
   ],
   "source": [
    "for i in dir_graph_city.childrenOf(dir_graph_city.getNode('Boston')):\n",
    "    print(i)"
   ]
  },
  {
   "cell_type": "code",
   "execution_count": 88,
   "metadata": {},
   "outputs": [],
   "source": [
    "def DFS(graph, start, end, path, shortest):\n",
    "    path = path + [start]\n",
    "    if start == end:\n",
    "        return path\n",
    "    for node in graph.childrenOf(start):\n",
    "        if node not in path:\n",
    "            if shortest == None or len(path) < len(shortest):\n",
    "                newPath = DFS(graph, node, end, path, shortest)\n",
    "                if newPath != None:\n",
    "                    shortest = newPath\n",
    "    return shortest "
   ]
  },
  {
   "cell_type": "code",
   "execution_count": 89,
   "metadata": {},
   "outputs": [
    {
     "name": "stdout",
     "output_type": "stream",
     "text": [
      "Boston->Providence\n",
      "Boston->New York\n",
      "Providence->Boston\n",
      "Providence->New York\n",
      "New York->Chicago\n",
      "Chicago->Denver\n",
      "Chicago->Phoenix\n",
      "Denver->Phoenix\n",
      "Denver->New York\n",
      "Los Angeles->Boston\n"
     ]
    }
   ],
   "source": [
    "g=buildCityGraph(Digraph())\n",
    "print(g)"
   ]
  },
  {
   "cell_type": "code",
   "execution_count": 109,
   "metadata": {},
   "outputs": [],
   "source": [
    "def printPath(path):\n",
    "    print(\" -> \".join(map(str, path)))"
   ]
  },
  {
   "cell_type": "code",
   "execution_count": 114,
   "metadata": {},
   "outputs": [
    {
     "name": "stdout",
     "output_type": "stream",
     "text": [
      "There is no path from Chicago to Boston\n",
      "Shortest path from Boston to Chicago is\n",
      "Boston -> New York -> Chicago\n"
     ]
    }
   ],
   "source": [
    "def testSP(source, destination):\n",
    "    g=buildCityGraph(Digraph())\n",
    "    sp = DFS(g, g.getNode(source), g.getNode(destination), [], None)\n",
    "\n",
    "    if sp != None:\n",
    "        print('Shortest path from', source, 'to', destination, 'is')\n",
    "        printPath(sp)\n",
    "        return sp\n",
    "\n",
    "    else:\n",
    "        print(f'There is no path from {source} to {destination}')\n",
    "\n",
    "testSP('Chicago', 'Boston')\n",
    "sp = testSP('Boston', 'Chicago')"
   ]
  },
  {
   "cell_type": "code",
   "execution_count": 55,
   "metadata": {},
   "outputs": [
    {
     "name": "stdout",
     "output_type": "stream",
     "text": [
      "Providence\n",
      "New York\n"
     ]
    }
   ],
   "source": [
    "for i in dir_graph_city.childrenOf(dir_graph_city.getNode('Boston')):\n",
    "    print(i)"
   ]
  },
  {
   "cell_type": "code",
   "execution_count": 148,
   "metadata": {},
   "outputs": [],
   "source": [
    "def BFS(graph, start, end, toPrint):\n",
    "    initPath = [start]\n",
    "    pathQueue = [initPath]\n",
    "    while len(pathQueue) != 0:\n",
    "        tmpPath = pathQueue.pop(0)\n",
    "        if toPrint:\n",
    "            print('Current BFS path: ')\n",
    "            # print(tmpPath)\n",
    "            printPath(tmpPath)\n",
    "        lastNode = tmpPath[-1]\n",
    "        if lastNode ==end:\n",
    "            return tmpPath\n",
    "        for nextNode in graph.childrenOf(lastNode):\n",
    "            if nextNode not in tmpPath:\n",
    "                newPath = tmpPath + [nextNode]\n",
    "                pathQueue.append(newPath)\n",
    "                # print(pathQueue)\n",
    "    return None "
   ]
  },
  {
   "cell_type": "code",
   "execution_count": 131,
   "metadata": {},
   "outputs": [
    {
     "data": {
      "text/plain": [
       "<__main__.Node at 0x22e802e1870>"
      ]
     },
     "execution_count": 131,
     "metadata": {},
     "output_type": "execute_result"
    }
   ],
   "source": [
    "g.getNode('New York')"
   ]
  },
  {
   "cell_type": "code",
   "execution_count": 149,
   "metadata": {},
   "outputs": [
    {
     "name": "stdout",
     "output_type": "stream",
     "text": [
      "Current BFS path: \n",
      "Boston\n",
      "Current BFS path: \n",
      "Boston -> Providence\n",
      "Current BFS path: \n",
      "Boston -> New York\n"
     ]
    },
    {
     "data": {
      "text/plain": [
       "[<__main__.Node at 0x22e802d0dc0>, <__main__.Node at 0x22e8030beb0>]"
      ]
     },
     "execution_count": 149,
     "metadata": {},
     "output_type": "execute_result"
    }
   ],
   "source": [
    "g = Digraph()\n",
    "buildCityGraph(g)\n",
    "start = g.getNode('Boston')\n",
    "end = g.getNode('New York')\n",
    "BFS(g, start, end, True)\n"
   ]
  },
  {
   "cell_type": "code",
   "execution_count": 152,
   "metadata": {},
   "outputs": [
    {
     "name": "stdout",
     "output_type": "stream",
     "text": [
      "Current BFS path: \n",
      "Boston\n",
      "Current BFS path: \n",
      "Boston -> Providence\n",
      "Current BFS path: \n",
      "Boston -> New York\n",
      "Current BFS path: \n",
      "Boston -> Providence -> New York\n",
      "Current BFS path: \n",
      "Boston -> New York -> Chicago\n",
      "Current BFS path: \n",
      "Boston -> Providence -> New York -> Chicago\n",
      "Current BFS path: \n",
      "Boston -> New York -> Chicago -> Denver\n",
      "Current BFS path: \n",
      "Boston -> New York -> Chicago -> Phoenix\n",
      "Boston -> New York -> Chicago -> Phoenix\n"
     ]
    }
   ],
   "source": [
    "g = Digraph()\n",
    "buildCityGraph(g)\n",
    "start = g.getNode('Boston')\n",
    "end = g.getNode('Phoenix')\n",
    "printPath(BFS(g, start, end, True))\n"
   ]
  },
  {
   "cell_type": "code",
   "execution_count": 121,
   "metadata": {},
   "outputs": [
    {
     "name": "stdout",
     "output_type": "stream",
     "text": [
      "[2, 3]\n",
      "1\n"
     ]
    }
   ],
   "source": [
    "list_try = [1,2,3]\n",
    "tmpPath = list_try.pop(0)\n",
    "print(list_try)\n",
    "print(tmpPath)"
   ]
  },
  {
   "cell_type": "code",
   "execution_count": null,
   "metadata": {},
   "outputs": [],
   "source": []
  }
 ],
 "metadata": {
  "kernelspec": {
   "display_name": "Python 3",
   "language": "python",
   "name": "python3"
  },
  "language_info": {
   "codemirror_mode": {
    "name": "ipython",
    "version": 3
   },
   "file_extension": ".py",
   "mimetype": "text/x-python",
   "name": "python",
   "nbconvert_exporter": "python",
   "pygments_lexer": "ipython3",
   "version": "3.10.11"
  }
 },
 "nbformat": 4,
 "nbformat_minor": 2
}
