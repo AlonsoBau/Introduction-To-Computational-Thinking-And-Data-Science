{
 "cells": [
  {
   "cell_type": "code",
   "execution_count": 12,
   "metadata": {},
   "outputs": [],
   "source": [
    "import Cluster2\n",
    "import random, pylab\n",
    "import numpy as np"
   ]
  },
  {
   "cell_type": "markdown",
   "metadata": {},
   "source": [
    "$$variability(c) = \\sum_{e \\in c}(distance(mean(c),e))^2$$\n",
    "where c is a cluster and e are all of the points in our dataset. Penalizes big highly diverse clusters more than small highly diverse clusters.\n",
    "$$dissimilarity(C) = \\sum_{c \\in C}variability(c)$$\n",
    "C is a set of clusters"
   ]
  },
  {
   "cell_type": "markdown",
   "metadata": {},
   "source": [
    "Single Linkage: Distance between two clusters is the shortest distance from any pair of points in the clusters \\\n",
    "Complete Linkage: Farthest distance between two clusters"
   ]
  },
  {
   "cell_type": "code",
   "execution_count": 13,
   "metadata": {},
   "outputs": [
    {
     "data": {
      "text/plain": [
       "1.0"
      ]
     },
     "execution_count": 13,
     "metadata": {},
     "output_type": "execute_result"
    }
   ],
   "source": [
    "v1= np.array([1,2,4])\n",
    "v2= np.array([1,2,3])\n",
    "Cluster2.minkowskiDist(v1,v2,2)"
   ]
  },
  {
   "cell_type": "code",
   "execution_count": 14,
   "metadata": {},
   "outputs": [],
   "source": [
    "class Patient(Cluster2.Example):\n",
    "    pass"
   ]
  },
  {
   "cell_type": "code",
   "execution_count": 15,
   "metadata": {},
   "outputs": [],
   "source": [
    "def scaleAttrs(vals):\n",
    "    vals = pylab.array(vals)\n",
    "    mean = sum(vals)/len(vals)\n",
    "    sd = np.std(vals)\n",
    "    vals = vals - mean\n",
    "    return vals/sd #z = (x-mu)/sd \n",
    "\n",
    "def getData(toScale = False):\n",
    "    #read in data\n",
    "    hrList, stElevList, ageList, prevACSList, classList = [],[],[],[],[]\n",
    "    cardiacData = open('cardiacData.txt', 'r')\n",
    "    for l in cardiacData:\n",
    "        l = l.split(',')\n",
    "        hrList.append(int(l[0]))\n",
    "        stElevList.append(int(l[1]))\n",
    "        ageList.append(int(l[2]))\n",
    "        prevACSList.append(int(l[3]))\n",
    "        classList.append(int(l[4])) # Predicted variable\n",
    "    if toScale: # Z-scale Attrs\n",
    "        hrList = scaleAttrs(hrList)\n",
    "        stElevList = scaleAttrs(stElevList)\n",
    "        ageList = scaleAttrs(ageList)\n",
    "        prevACSList = scaleAttrs(prevACSList)\n",
    "    #Build points\n",
    "    points = []\n",
    "    for i in range(len(hrList)):\n",
    "        features = pylab.array([hrList[i], prevACSList[i],\\\n",
    "                                stElevList[i], ageList[i]])\n",
    "        pIndex = str(i)\n",
    "        points.append(Cluster2.Example('P'+ pIndex, features, classList[i]))\n",
    "    return points\n",
    "    "
   ]
  },
  {
   "cell_type": "code",
   "execution_count": 16,
   "metadata": {},
   "outputs": [],
   "source": [
    "def kmeans(examples, k, verbose = False):\n",
    "    #Get k randomly chosen initial centroids, create cluster for each\n",
    "    initialCentroids = random.sample(examples, k) # Pick Random Centroids\n",
    "    # print(initialCentroids)\n",
    "    clusters = []\n",
    "    for e in initialCentroids:\n",
    "        clusters.append(Cluster2.Cluster([e])) # Append the Random Centroids to a cluster\n",
    "        # Clusters will have only one point (centroid)\n",
    "    # print(clusters[0].centroid)\n",
    "    # print(clusters[0].examples[0])\n",
    "    #Iterate until centroids do not change\n",
    "    converged = False\n",
    "    numIterations = 0\n",
    "    while not converged:\n",
    "        numIterations += 1\n",
    "        #Create a list containing k distinct empty lists\n",
    "        newClusters = []\n",
    "        for i in range(k):\n",
    "            newClusters.append([]) # New Cluster will have k number of lists\n",
    "            \n",
    "        #Associate each example with closest centroid\n",
    "        for e in examples:\n",
    "            #Find the centroid closest to e\n",
    "            smallestDistance = e.distance(clusters[0].getCentroid()) \n",
    "            # Gets Distance between each datapoint and the cluster 0 and sets it as value to beat\n",
    "            index = 0\n",
    "            for i in range(1, k):\n",
    "                distance = e.distance(clusters[i].getCentroid()) \n",
    "                # Gets Distance between each datapoint and the other clusters\n",
    "                if distance < smallestDistance:\n",
    "                    smallestDistance = distance\n",
    "                    index = i\n",
    "            #Index would be the closest cluster to Datapoint\n",
    "            #Add e to the list of examples for appropriate cluster\n",
    "            newClusters[index].append(e)\n",
    "            \n",
    "        for c in newClusters: #Avoid having empty clusters\n",
    "            if len(c) == 0:\n",
    "                raise ValueError('Empty Cluster')\n",
    "        \n",
    "        #Update each cluster; check if a centroid has changed\n",
    "        converged = True\n",
    "        for i in range(k):\n",
    "            if clusters[i].update(newClusters[i]) > 0.0:\n",
    "                converged = False\n",
    "        if verbose:\n",
    "            print('Iteration #' + str(numIterations))\n",
    "            for c in clusters:\n",
    "                print(c)\n",
    "            print('') #add blank line\n",
    "    return clusters"
   ]
  },
  {
   "cell_type": "code",
   "execution_count": 17,
   "metadata": {},
   "outputs": [],
   "source": [
    "def trykmeans(examples, numClusters, numTrials, verbose = False):\n",
    "    \"\"\"Calls kmeans numTrials times and returns the result with the\n",
    "          lowest dissimilarity\"\"\"\n",
    "    best = kmeans(examples, numClusters, verbose) # Start with a set of clusters\n",
    "    minDissimilarity = Cluster2.dissimilarity(best) # Get their dissimilarity and treat it as minimum dissimilarity\n",
    "    trial = 1\n",
    "    while trial < numTrials:\n",
    "        try:\n",
    "            clusters = kmeans(examples, numClusters, verbose) # Come up with new set of clusters\n",
    "        except ValueError:\n",
    "            continue #If failed, try again\n",
    "        currDissimilarity = Cluster2.dissimilarity(clusters)\n",
    "        if currDissimilarity < minDissimilarity: # If dissimilarity is better then take that cluster instead\n",
    "            best = clusters\n",
    "            minDissimilarity = currDissimilarity\n",
    "        trial += 1\n",
    "    return best\n",
    "\n",
    "def printClustering(clustering):\n",
    "    \"\"\"Assumes: clustering is a sequence of clusters\n",
    "       Prints information about each cluster\n",
    "       Returns list of fraction of pos cases in each cluster\"\"\"\n",
    "    posFracs = []\n",
    "    for c in clustering:\n",
    "        numPts = 0\n",
    "        numPos = 0\n",
    "        for p in c.members():\n",
    "            numPts += 1\n",
    "            if p.getLabel() == 1:\n",
    "                numPos += 1\n",
    "        fracPos = numPos/numPts\n",
    "        posFracs.append(fracPos)\n",
    "        print('Cluster of size', numPts, 'with fraction of positives =',\n",
    "              round(fracPos, 4))\n",
    "    return pylab.array(posFracs)\n",
    "\n",
    "def testClustering(patients, numClusters, seed = 0, numTrials = 5):\n",
    "    random.seed(seed)\n",
    "    bestClustering = trykmeans(patients, numClusters, numTrials)\n",
    "    posFracs = printClustering(bestClustering)\n",
    "    return posFracs"
   ]
  },
  {
   "cell_type": "code",
   "execution_count": 18,
   "metadata": {},
   "outputs": [],
   "source": [
    "patients = getData(True)"
   ]
  },
  {
   "cell_type": "code",
   "execution_count": 19,
   "metadata": {},
   "outputs": [
    {
     "data": {
      "text/plain": [
       "[<Cluster2.Cluster at 0x17d255d5c00>, <Cluster2.Cluster at 0x17d255f1120>]"
      ]
     },
     "execution_count": 19,
     "metadata": {},
     "output_type": "execute_result"
    }
   ],
   "source": [
    "kmeans(patients, 2)"
   ]
  },
  {
   "cell_type": "code",
   "execution_count": 20,
   "metadata": {},
   "outputs": [
    {
     "data": {
      "text/plain": [
       "0"
      ]
     },
     "execution_count": 20,
     "metadata": {},
     "output_type": "execute_result"
    }
   ],
   "source": [
    "getData()[0].getLabel()"
   ]
  },
  {
   "cell_type": "code",
   "execution_count": 21,
   "metadata": {},
   "outputs": [
    {
     "data": {
      "text/plain": [
       "array([84,  0,  0, 55])"
      ]
     },
     "execution_count": 21,
     "metadata": {},
     "output_type": "execute_result"
    }
   ],
   "source": [
    "getData()[0].getFeatures()"
   ]
  },
  {
   "cell_type": "code",
   "execution_count": 22,
   "metadata": {},
   "outputs": [
    {
     "name": "stdout",
     "output_type": "stream",
     "text": [
      "\n",
      "     Test k-means (k = 2)\n",
      "Cluster of size 224 with fraction of positives = 0.2902\n",
      "Cluster of size 26 with fraction of positives = 0.6923\n"
     ]
    }
   ],
   "source": [
    "patients = getData(True)\n",
    "for k in (2,):\n",
    "    print('\\n     Test k-means (k = ' + str(k) + ')')\n",
    "    posFracs = testClustering(patients, k)"
   ]
  },
  {
   "cell_type": "code",
   "execution_count": 23,
   "metadata": {},
   "outputs": [
    {
     "name": "stdout",
     "output_type": "stream",
     "text": [
      "Total number of positive patients = 83\n"
     ]
    }
   ],
   "source": [
    "numPos = 0\n",
    "for p in patients:\n",
    "   if p.getLabel() == 1:\n",
    "       numPos += 1\n",
    "print('Total number of positive patients =', numPos) "
   ]
  },
  {
   "cell_type": "markdown",
   "metadata": {},
   "source": [
    "Missing most positives in Cluster 2 since it only has 26 and there are 83 positives"
   ]
  },
  {
   "cell_type": "code",
   "execution_count": 24,
   "metadata": {},
   "outputs": [
    {
     "name": "stdout",
     "output_type": "stream",
     "text": [
      "\n",
      "     Test k-means (k = 2)\n",
      "Cluster of size 224 with fraction of positives = 0.2902\n",
      "Cluster of size 26 with fraction of positives = 0.6923\n",
      "\n",
      "     Test k-means (k = 4)\n",
      "Cluster of size 62 with fraction of positives = 0.0645\n",
      "Cluster of size 86 with fraction of positives = 0.0814\n",
      "Cluster of size 26 with fraction of positives = 0.6923\n",
      "Cluster of size 76 with fraction of positives = 0.7105\n",
      "\n",
      "     Test k-means (k = 6)\n",
      "Cluster of size 50 with fraction of positives = 0.04\n",
      "Cluster of size 54 with fraction of positives = 0.0926\n",
      "Cluster of size 43 with fraction of positives = 0.6512\n",
      "Cluster of size 26 with fraction of positives = 0.6923\n",
      "Cluster of size 33 with fraction of positives = 0.7879\n",
      "Cluster of size 44 with fraction of positives = 0.0909\n"
     ]
    }
   ],
   "source": [
    "patients = getData(True)\n",
    "for k in (2,4,6):\n",
    "    print('\\n     Test k-means (k = ' + str(k) + ')')\n",
    "    posFracs = testClustering(patients, k)"
   ]
  }
 ],
 "metadata": {
  "kernelspec": {
   "display_name": "Python 3",
   "language": "python",
   "name": "python3"
  },
  "language_info": {
   "codemirror_mode": {
    "name": "ipython",
    "version": 3
   },
   "file_extension": ".py",
   "mimetype": "text/x-python",
   "name": "python",
   "nbconvert_exporter": "python",
   "pygments_lexer": "ipython3",
   "version": "3.10.11"
  }
 },
 "nbformat": 4,
 "nbformat_minor": 2
}
