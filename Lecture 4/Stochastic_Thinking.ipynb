{
 "cells": [
  {
   "cell_type": "code",
   "execution_count": 32,
   "metadata": {},
   "outputs": [],
   "source": [
    "import random\n",
    "import math"
   ]
  },
  {
   "cell_type": "code",
   "execution_count": 33,
   "metadata": {},
   "outputs": [],
   "source": [
    "def rollDie():\n",
    "    return random.choice([1,2,3,4,5,6])\n",
    "\n",
    "def testRoll(n=10):\n",
    "    result = ''\n",
    "    for i in range(n):\n",
    "        result = result+str(rollDie())\n",
    "    print(result)"
   ]
  },
  {
   "cell_type": "code",
   "execution_count": 34,
   "metadata": {},
   "outputs": [
    {
     "name": "stdout",
     "output_type": "stream",
     "text": [
      "6133224235\n"
     ]
    }
   ],
   "source": [
    "testRoll()"
   ]
  },
  {
   "cell_type": "code",
   "execution_count": 35,
   "metadata": {},
   "outputs": [
    {
     "name": "stdout",
     "output_type": "stream",
     "text": [
      "Actual Probability of 11111 = 0.0001286\n",
      "Estimated Probability of 11111 = 0.00017\n"
     ]
    }
   ],
   "source": [
    "def runSim(goal, numTrials, txt):\n",
    "    random.seed(0)\n",
    "    total = 0\n",
    "    for i in range(numTrials):\n",
    "        result = ''\n",
    "        for j in range(len(goal)):\n",
    "            result +=str(rollDie())\n",
    "        if result == goal:\n",
    "            total+=1\n",
    "    print(f'Actual Probability of {txt} = {round((1/6)**len(goal),8)}')\n",
    "    estProbability = round(total/numTrials, 8)\n",
    "    print(f'Estimated Probability of {txt} = {estProbability}')\n",
    "\n",
    "runSim('11111',100000,'11111')\n",
    "    "
   ]
  },
  {
   "cell_type": "code",
   "execution_count": 36,
   "metadata": {},
   "outputs": [],
   "source": [
    "def sameDate(numPeople, numSame):\n",
    "    possibleDates = range(366)\n",
    "    birthdays = [0]* 366\n",
    "    for p in range(numPeople):\n",
    "        birthDate = random.choice(possibleDates)\n",
    "        birthdays[birthDate] +=1\n",
    "    return max(birthdays)>=numSame\n",
    "\n",
    "def birthdayProb(numPeople, numSame, numTrials):\n",
    "    numHits = 0\n",
    "    for t in range(numTrials):\n",
    "        if sameDate(numPeople, numSame):\n",
    "            numHits+=1\n",
    "    return numHits/numTrials\n"
   ]
  },
  {
   "cell_type": "code",
   "execution_count": 37,
   "metadata": {},
   "outputs": [
    {
     "name": "stdout",
     "output_type": "stream",
     "text": [
      "For 10, the est prob of Shared birthday is 0.1167\n",
      "Actual prob for 10 people is 0.1166454118039999\n",
      "\n",
      "\n",
      "For 20, the est prob of Shared birthday is 0.4164\n",
      "Actual prob for 20 people is 0.4105696370550831\n",
      "\n",
      "\n",
      "For 40, the est prob of Shared birthday is 0.8897\n",
      "Actual prob for 40 people is 0.89054476188945\n",
      "\n",
      "\n",
      "For 100, the est prob of Shared birthday is 1.0\n",
      "Actual prob for 100 people is 0.9999996784357714\n",
      "\n",
      "\n"
     ]
    }
   ],
   "source": [
    "for numPeople in [10,20,40,100]:\n",
    "    print(f'For {numPeople}, the est prob of Shared birthday is {birthdayProb(numPeople, 2,10000)}')\n",
    "    num_prob = math.factorial(366)\n",
    "    denom = 366**(numPeople) * math.factorial(366-numPeople)\n",
    "    print(f'Actual prob for {numPeople} people is {1-num_prob/denom}')\n",
    "    print('\\n')"
   ]
  },
  {
   "cell_type": "code",
   "execution_count": 38,
   "metadata": {},
   "outputs": [
    {
     "name": "stdout",
     "output_type": "stream",
     "text": [
      "For 10, the est prob of Shared birthday is 0.00096\n",
      "For 20, the est prob of Shared birthday is 0.00807\n",
      "For 40, the est prob of Shared birthday is 0.06604\n",
      "For 100, the est prob of Shared birthday is 0.64558\n"
     ]
    }
   ],
   "source": [
    "for numPeople in [10,20,40,100]:\n",
    "    print(f'For {numPeople}, the est prob of Shared birthday is {birthdayProb(numPeople, 3,100000)}')"
   ]
  },
  {
   "cell_type": "code",
   "execution_count": 39,
   "metadata": {},
   "outputs": [],
   "source": [
    "def sameDate(numPeople, numSame):\n",
    "    possibleDates = 4 * list(range(0,58)) + [58] + \\\n",
    "                    + 4 * list(range(59,366))  \\\n",
    "                    + 4*list(range(180,270))\n",
    "    # Probability of birthday in 58 -> Feb 29th is lower\n",
    "    # Probability of person being born between 180 and 270 is twice as big\n",
    "    birthdays = [0]* 366\n",
    "    for p in range(numPeople):\n",
    "        birthDate = random.choice(possibleDates)\n",
    "        birthdays[birthDate] +=1\n",
    "    return max(birthdays)>=numSame"
   ]
  },
  {
   "cell_type": "code",
   "execution_count": 41,
   "metadata": {},
   "outputs": [
    {
     "name": "stdout",
     "output_type": "stream",
     "text": [
      "For 10, the est prob of Shared birthday is 0.00108\n",
      "For 20, the est prob of Shared birthday is 0.01119\n",
      "For 40, the est prob of Shared birthday is 0.09126\n",
      "For 100, the est prob of Shared birthday is 0.74751\n"
     ]
    }
   ],
   "source": [
    "for numPeople in [10,20,40,100]:\n",
    "    print(f'For {numPeople}, the est prob of Shared birthday is {birthdayProb(numPeople, 3,100000)}')"
   ]
  },
  {
   "cell_type": "code",
   "execution_count": 22,
   "metadata": {},
   "outputs": [
    {
     "data": {
      "text/plain": [
       "0.12"
      ]
     },
     "execution_count": 22,
     "metadata": {},
     "output_type": "execute_result"
    }
   ],
   "source": [
    "birthdayProb(10,2,1000)"
   ]
  }
 ],
 "metadata": {
  "kernelspec": {
   "display_name": "Python 3",
   "language": "python",
   "name": "python3"
  },
  "language_info": {
   "codemirror_mode": {
    "name": "ipython",
    "version": 3
   },
   "file_extension": ".py",
   "mimetype": "text/x-python",
   "name": "python",
   "nbconvert_exporter": "python",
   "pygments_lexer": "ipython3",
   "version": "3.10.11"
  }
 },
 "nbformat": 4,
 "nbformat_minor": 2
}
