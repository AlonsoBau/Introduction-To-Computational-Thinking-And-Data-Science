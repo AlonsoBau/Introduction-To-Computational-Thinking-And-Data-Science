{
 "cells": [
  {
   "cell_type": "code",
   "execution_count": 53,
   "metadata": {},
   "outputs": [],
   "source": [
    "class Food(object):\n",
    "    def __init__(self, n, v, w) -> None:\n",
    "        self.name = n \n",
    "        self.value = v \n",
    "        self.calories = w\n",
    "    \n",
    "    def getValue(self):\n",
    "        return self.value\n",
    "    \n",
    "    def getCost(self):\n",
    "        return self.calories\n",
    "    \n",
    "    def density(self):\n",
    "        return self.getValue()/self.getCost()\n",
    "    \n",
    "    def __str__(self) -> str:\n",
    "        return f'{self.name} : < {str(self.value)} , {str(self.calories)} >'"
   ]
  },
  {
   "cell_type": "code",
   "execution_count": 54,
   "metadata": {},
   "outputs": [],
   "source": [
    "def buildMenu(names, values, calories):\n",
    "    menu = []\n",
    "    for i in range(len(values)):\n",
    "        menu.append(Food(names[i], values[i], calories[i]))\n",
    "    return menu\n"
   ]
  },
  {
   "cell_type": "code",
   "execution_count": 55,
   "metadata": {},
   "outputs": [],
   "source": [
    "menu = []\n",
    "names = ('Burguer', 'Sand')\n",
    "values = (10,5)\n",
    "calories = (1000,600)\n",
    "menu = buildMenu(names, values, calories)"
   ]
  },
  {
   "cell_type": "code",
   "execution_count": 56,
   "metadata": {},
   "outputs": [
    {
     "name": "stdout",
     "output_type": "stream",
     "text": [
      "Burguer   0.01\n"
     ]
    }
   ],
   "source": [
    "print(menu[0].name, ' ' ,menu[0].density())"
   ]
  },
  {
   "cell_type": "code",
   "execution_count": 57,
   "metadata": {},
   "outputs": [
    {
     "name": "stdout",
     "output_type": "stream",
     "text": [
      "Sand   0.008333333333333333\n"
     ]
    }
   ],
   "source": [
    "print(menu[1].name, ' ' ,menu[1].density())\n"
   ]
  },
  {
   "cell_type": "code",
   "execution_count": 58,
   "metadata": {},
   "outputs": [
    {
     "data": {
      "text/plain": [
       "[-5, 4, 2, 1]"
      ]
     },
     "execution_count": 58,
     "metadata": {},
     "output_type": "execute_result"
    }
   ],
   "source": [
    "sorted([-5,1,2,4], reverse=True, key=abs)"
   ]
  },
  {
   "cell_type": "code",
   "execution_count": 59,
   "metadata": {},
   "outputs": [],
   "source": [
    "def keyFunc(food):\n",
    "    return food.density()"
   ]
  },
  {
   "cell_type": "code",
   "execution_count": 60,
   "metadata": {},
   "outputs": [
    {
     "name": "stdout",
     "output_type": "stream",
     "text": [
      "Burguer : < 10 , 1000 >\n"
     ]
    }
   ],
   "source": [
    "print(sorted(menu, key = keyFunc, reverse=True)[0])"
   ]
  },
  {
   "cell_type": "code",
   "execution_count": 61,
   "metadata": {},
   "outputs": [
    {
     "name": "stdout",
     "output_type": "stream",
     "text": [
      "Burguer : < 10 , 1000 >\n"
     ]
    }
   ],
   "source": [
    "print(sorted(menu, key = Food.density, reverse=True)[0])"
   ]
  },
  {
   "cell_type": "code",
   "execution_count": 62,
   "metadata": {},
   "outputs": [],
   "source": [
    "def greedy(items, maxCost, keyFunc):\n",
    "    itemsCopy = sorted(items, key = keyFunc, reverse=True)\n",
    "    result = []\n",
    "    totalValue, totalCost = 0.0,0.0\n",
    "    for i in range(len(itemsCopy)):\n",
    "        if (totalCost + itemsCopy[i].getCost())<= maxCost:\n",
    "            result.append(itemsCopy[i])\n",
    "            totalCost += itemsCopy[i].getCost()\n",
    "            totalValue +=itemsCopy[i].getValue()\n",
    "    return (result, totalValue)"
   ]
  },
  {
   "cell_type": "code",
   "execution_count": 63,
   "metadata": {},
   "outputs": [],
   "source": [
    "def testGreedy(items, constraint, keyFunction):\n",
    "    taken, val = greedy(items, constraint, keyFunction)\n",
    "    print(f'Total Value = {val}')\n",
    "    for item in taken:\n",
    "        print(item)"
   ]
  },
  {
   "cell_type": "code",
   "execution_count": 64,
   "metadata": {},
   "outputs": [],
   "source": [
    "names = ['wine', 'beer', 'pizza', 'donut', 'cake']\n",
    "values = [89,90,95,50,10]\n",
    "calories = [123,154,258, 95,195]"
   ]
  },
  {
   "cell_type": "code",
   "execution_count": 65,
   "metadata": {},
   "outputs": [
    {
     "name": "stdout",
     "output_type": "stream",
     "text": [
      "Total Value = 324.0\n",
      "pizza : < 95 , 258 >\n",
      "beer : < 90 , 154 >\n",
      "wine : < 89 , 123 >\n",
      "donut : < 50 , 95 >\n"
     ]
    }
   ],
   "source": [
    "foods = buildMenu(names, values, calories)\n",
    "maxUnits = 750\n",
    "testGreedy(foods, maxUnits, Food.getValue) # Maximize value by getting things with highest value"
   ]
  },
  {
   "cell_type": "code",
   "execution_count": 66,
   "metadata": {},
   "outputs": [
    {
     "name": "stdout",
     "output_type": "stream",
     "text": [
      "Total Value = 239.0\n",
      "donut : < 50 , 95 >\n",
      "wine : < 89 , 123 >\n",
      "beer : < 90 , 154 >\n",
      "cake : < 10 , 195 >\n"
     ]
    }
   ],
   "source": [
    "testGreedy(foods, maxUnits, lambda x: 1/Food.getCost(x)) # Maximize value by getting things with lowest cals"
   ]
  },
  {
   "cell_type": "code",
   "execution_count": 67,
   "metadata": {},
   "outputs": [
    {
     "name": "stdout",
     "output_type": "stream",
     "text": [
      "Total Value = 324.0\n",
      "wine : < 89 , 123 >\n",
      "beer : < 90 , 154 >\n",
      "donut : < 50 , 95 >\n",
      "pizza : < 95 , 258 >\n"
     ]
    }
   ],
   "source": [
    "testGreedy(foods, maxUnits, Food.density)"
   ]
  }
 ],
 "metadata": {
  "kernelspec": {
   "display_name": "Python 3",
   "language": "python",
   "name": "python3"
  },
  "language_info": {
   "codemirror_mode": {
    "name": "ipython",
    "version": 3
   },
   "file_extension": ".py",
   "mimetype": "text/x-python",
   "name": "python",
   "nbconvert_exporter": "python",
   "pygments_lexer": "ipython3",
   "version": "3.10.11"
  }
 },
 "nbformat": 4,
 "nbformat_minor": 2
}
