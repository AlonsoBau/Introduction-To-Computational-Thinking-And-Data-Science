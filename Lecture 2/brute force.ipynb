{
 "cells": [
  {
   "cell_type": "code",
   "execution_count": 69,
   "metadata": {},
   "outputs": [],
   "source": [
    "class Food(object):\n",
    "    def __init__(self, n, v, w) -> None:\n",
    "        self.name = n \n",
    "        self.value = v \n",
    "        self.calories = w\n",
    "    \n",
    "    def getValue(self):\n",
    "        return self.value\n",
    "    \n",
    "    def getCost(self):\n",
    "        return self.calories\n",
    "    \n",
    "    def density(self):\n",
    "        return self.getValue()/self.getCost()\n",
    "    \n",
    "    def __str__(self) -> str:\n",
    "        return f'{self.name} : < {str(self.value)} , {str(self.calories)} >'"
   ]
  },
  {
   "cell_type": "code",
   "execution_count": 70,
   "metadata": {},
   "outputs": [],
   "source": [
    "def buildMenu(names, values, calories):\n",
    "    menu = []\n",
    "    for i in range(len(values)):\n",
    "        menu.append(Food(names[i], values[i], calories[i]))\n",
    "    return menu\n"
   ]
  },
  {
   "cell_type": "code",
   "execution_count": 71,
   "metadata": {},
   "outputs": [],
   "source": [
    "def MaxVal(toConsider, avail):\n",
    "    if toConsider == [] or avail==0:\n",
    "        result = (0, ())\n",
    "    elif toConsider[0].getCost()>avail:\n",
    "        result = MaxVal(toConsider[1:], avail)\n",
    "    else:\n",
    "        nextItem = toConsider[0]\n",
    "        withVal, withToTake = MaxVal(toConsider[1:], avail - nextItem.getCost())\n",
    "        withVal += nextItem.getValue()\n",
    "\n",
    "        withoutVal, WithoutToTake = MaxVal(toConsider[1:], avail)\n",
    "\n",
    "        if withVal>withoutVal:\n",
    "            result = (withVal, withToTake + (nextItem, ))\n",
    "        else:\n",
    "            result = (withoutVal, WithoutToTake)\n",
    "    return result\n"
   ]
  },
  {
   "cell_type": "code",
   "execution_count": 72,
   "metadata": {},
   "outputs": [],
   "source": [
    "names = ['A', 'B', 'C']\n",
    "values = [35,25,40]\n",
    "calories = [100,150,300]\n",
    "foods = buildMenu(names, values, calories)\n",
    "maxUnits = 450\n",
    "# testGreedy(foods, maxUnits, Food.getValue) # Maximize value by getting things with highest value"
   ]
  },
  {
   "cell_type": "code",
   "execution_count": 73,
   "metadata": {},
   "outputs": [
    {
     "name": "stdout",
     "output_type": "stream",
     "text": [
      "C : < 40 , 300 >\n",
      "A : < 35 , 100 >\n",
      "75\n"
     ]
    }
   ],
   "source": [
    "val, items = MaxVal(foods, maxUnits)\n",
    "for i in items:\n",
    "    print(i)\n",
    "print(val)"
   ]
  },
  {
   "cell_type": "code",
   "execution_count": 74,
   "metadata": {},
   "outputs": [
    {
     "name": "stdout",
     "output_type": "stream",
     "text": [
      "donut : < 50 , 95 >\n",
      "pizza : < 95 , 258 >\n",
      "beer : < 90 , 154 >\n",
      "wine : < 89 , 123 >\n",
      "324\n"
     ]
    }
   ],
   "source": [
    "names = ['wine', 'beer', 'pizza', 'donut', 'cake']\n",
    "values = [89,90,95,50,10]\n",
    "calories = [123,154,258, 95,195]\n",
    "foods = buildMenu(names, values, calories)\n",
    "maxUnits = 750\n",
    "\n",
    "val, items = MaxVal(foods, maxUnits)\n",
    "for i in items:\n",
    "    print(i)\n",
    "print(val)"
   ]
  },
  {
   "cell_type": "code",
   "execution_count": 75,
   "metadata": {},
   "outputs": [],
   "source": [
    "def fib(n):\n",
    "    if n==0 or n==1:\n",
    "        return 1\n",
    "    else:\n",
    "        return fib(n-1) + fib(n-2)"
   ]
  },
  {
   "cell_type": "code",
   "execution_count": 76,
   "metadata": {},
   "outputs": [],
   "source": [
    "def fastFib(n, memo= {}):\n",
    "    if n==0 or n==1:\n",
    "        return 1\n",
    "    try:\n",
    "        return memo[n]\n",
    "    except KeyError:\n",
    "        result = fastFib(n-1,memo) + fastFib(n-2,memo)\n",
    "        memo[n] = result\n",
    "        return result"
   ]
  },
  {
   "cell_type": "code",
   "execution_count": 77,
   "metadata": {},
   "outputs": [
    {
     "data": {
      "text/plain": [
       "8670007398507948658051921"
      ]
     },
     "execution_count": 77,
     "metadata": {},
     "output_type": "execute_result"
    }
   ],
   "source": [
    "fastFib(120)"
   ]
  },
  {
   "cell_type": "code",
   "execution_count": 78,
   "metadata": {},
   "outputs": [],
   "source": [
    "def fastFib(n, memo= {}):\n",
    "    if n==0 or n==1:\n",
    "        return 1\n",
    "    if n in memo.keys():\n",
    "        return memo[n]\n",
    "    else:\n",
    "        result = fastFib(n-1,memo) + fastFib(n-2,memo)\n",
    "        memo[n] = result\n",
    "        return result"
   ]
  },
  {
   "cell_type": "code",
   "execution_count": 79,
   "metadata": {},
   "outputs": [
    {
     "data": {
      "text/plain": [
       "8670007398507948658051921"
      ]
     },
     "execution_count": 79,
     "metadata": {},
     "output_type": "execute_result"
    }
   ],
   "source": [
    "fastFib(120)"
   ]
  },
  {
   "cell_type": "code",
   "execution_count": 80,
   "metadata": {},
   "outputs": [],
   "source": [
    "def FastMaxVal(toConsider, avail, memo = {}):\n",
    "    key = (tuple(toConsider), avail)\n",
    "    \n",
    "    if key in memo.keys():\n",
    "        return memo[key]\n",
    "    \n",
    "    if toConsider == [] or avail==0:\n",
    "        result = (0, ())\n",
    "    elif toConsider[0].getCost()>avail:\n",
    "        result = FastMaxVal(toConsider[1:], avail, memo)\n",
    "    else:\n",
    "        nextItem = toConsider[0]\n",
    "        # if (toConsider[1:] in memo.keys())\n",
    "        withVal, withToTake = FastMaxVal(toConsider[1:], avail - nextItem.getCost(), memo)\n",
    "        withVal += nextItem.getValue()\n",
    "\n",
    "        withoutVal, WithoutToTake = FastMaxVal(toConsider[1:], avail, memo)\n",
    "\n",
    "        if withVal>withoutVal:\n",
    "            result = (withVal, withToTake + (nextItem, ))\n",
    "        else:\n",
    "            result = (withoutVal, WithoutToTake)\n",
    "    memo[key] = result    \n",
    "    return result\n"
   ]
  },
  {
   "cell_type": "code",
   "execution_count": 81,
   "metadata": {},
   "outputs": [],
   "source": [
    "import random\n",
    "import timeit"
   ]
  },
  {
   "cell_type": "code",
   "execution_count": 82,
   "metadata": {},
   "outputs": [],
   "source": [
    "def measure_time(func, args, kwargs):\n",
    "    \"\"\"Measures the execution time of a function.\"\"\"\n",
    "    start_time = timeit.default_timer()\n",
    "    result = func(*args, **kwargs)\n",
    "    end_time = timeit.default_timer()\n",
    "    elapsed_time = end_time - start_time\n",
    "    return result, elapsed_time\n"
   ]
  },
  {
   "cell_type": "code",
   "execution_count": 85,
   "metadata": {},
   "outputs": [
    {
     "name": "stdout",
     "output_type": "stream",
     "text": [
      "MaxVal execution time: 15.635932799996226\n",
      "233\n",
      "FastMaxVal execution time: 0.3728743999963626\n",
      "233\n"
     ]
    }
   ],
   "source": [
    "names = []\n",
    "values = []\n",
    "calories = []\n",
    "maxUnits = 750\n",
    "for i in range(120):\n",
    "    names.append(i)\n",
    "    values.append(random.randint(1,50))\n",
    "    calories.append(random.randint(100,300))\n",
    "    foods = buildMenu(names, values, calories)\n",
    "\n",
    "start_time = timeit.default_timer()\n",
    "val, items= MaxVal(foods, maxUnits)\n",
    "end_time = timeit.default_timer()\n",
    "elapsed_time = end_time - start_time\n",
    "print(\"MaxVal execution time:\", elapsed_time)\n",
    "print(val)\n",
    "\n",
    "start_time = timeit.default_timer()\n",
    "val, items= FastMaxVal(foods, maxUnits)\n",
    "end_time = timeit.default_timer()\n",
    "elapsed_time = end_time - start_time\n",
    "print(\"FastMaxVal execution time:\", elapsed_time)\n",
    "print(val)"
   ]
  },
  {
   "cell_type": "code",
   "execution_count": 51,
   "metadata": {},
   "outputs": [
    {
     "name": "stdout",
     "output_type": "stream",
     "text": [
      "donut : < 50 , 95 >\n",
      "pizza : < 95 , 258 >\n",
      "beer : < 90 , 154 >\n",
      "wine : < 89 , 123 >\n",
      "324\n"
     ]
    }
   ],
   "source": [
    "val, items = MaxVal(foods, maxUnits)\n",
    "for i in items:\n",
    "    print(i)\n",
    "print(val)"
   ]
  }
 ],
 "metadata": {
  "kernelspec": {
   "display_name": "Python 3",
   "language": "python",
   "name": "python3"
  },
  "language_info": {
   "codemirror_mode": {
    "name": "ipython",
    "version": 3
   },
   "file_extension": ".py",
   "mimetype": "text/x-python",
   "name": "python",
   "nbconvert_exporter": "python",
   "pygments_lexer": "ipython3",
   "version": "3.10.11"
  }
 },
 "nbformat": 4,
 "nbformat_minor": 2
}
